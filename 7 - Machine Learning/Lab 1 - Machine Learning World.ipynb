{
 "cells": [
  {
   "cell_type": "markdown",
   "metadata": {},
   "source": [
    "# Lab | Machine Learning & AI World"
   ]
  },
  {
   "cell_type": "markdown",
   "metadata": {},
   "source": [
    "Machine Learning now is one of the trending topics if you talk aboyt technology. Everyday a lot of material about this topic arrives to the media, not only news about new discovers but also a lot of tutorials and articles about people working on this.\n",
    "\n",
    "The objectives of this lab are:\n",
    "* Get introduced into this world through the latest most important news we have had in the last years.\n",
    "* Guide you to do a deeper research to understand them better.\n"
   ]
  },
  {
   "cell_type": "markdown",
   "metadata": {},
   "source": [
    "## How we will do it?"
   ]
  },
  {
   "cell_type": "markdown",
   "metadata": {},
   "source": [
    "So let's start digging a litle bit. Imagine you open your today's AI&ML journal and you see a very interesting new. You read it but that is not enough. You want to understand:"
   ]
  },
  {
   "cell_type": "markdown",
   "metadata": {},
   "source": [
    "**LINK: https://gizmodo.com/facebooks-new-face-recognition-features-what-we-do-an-1823359911**"
   ]
  },
  {
   "cell_type": "markdown",
   "metadata": {},
   "source": [
    "* If it is so important as the title says (is it really a big step?) or you think it is more important than the title suggests."
   ]
  },
  {
   "cell_type": "markdown",
   "metadata": {},
   "source": [
    "**Answer: I believe that this topic already exists in several contexts, but it is very important to discuss it, because it is related to delicate issues, as security and privacy.**\n"
   ]
  },
  {
   "cell_type": "markdown",
   "metadata": {},
   "source": [
    "* Which part of ML or AI is used and how is it related to ML or AI?"
   ]
  },
  {
   "cell_type": "markdown",
   "metadata": {},
   "source": [
    "**Answer: \"(...) Facebook describes the template as a “string of numbers,” but each user is assigned a template that’s unique to them (...)\"**\n",
    "\n",
    "**This article has relation to Machine Learning, identifying patterns and making decisions as choose if the combination of a string of numbers is defining a specific Facebook user.**"
   ]
  },
  {
   "cell_type": "markdown",
   "metadata": {},
   "source": [
    "* What did they do to take the data?"
   ]
  },
  {
   "cell_type": "markdown",
   "metadata": {},
   "source": [
    "**Answer: (...) When a Facebook user with either “tag suggestions” or “face recognition” turned on is tagged in a photo, the social network’s machine learning systems analyze the pixels of the face in the image, creating what’s called a “template.” Facebook describes the template as a “string of numbers,” but each user is assigned a template that’s unique to them.\n",
    "When new photos are uploaded, Facebook compares faces present in the image to templates of relevant users and suggests a tag if there’s a match. Because it’s both unique and able to identify users, it’s helpful to think of the template as a sort of thumbprint (...)**"
   ]
  },
  {
   "cell_type": "markdown",
   "metadata": {},
   "source": [
    "* Which data did they use?"
   ]
  },
  {
   "cell_type": "markdown",
   "metadata": {},
   "source": [
    "**Answer: They use the data summarized in photos and translated into a string of numbers, then perform facial recognition.**"
   ]
  },
  {
   "cell_type": "markdown",
   "metadata": {},
   "source": [
    "* How did they do to build the model. Which type of model is? "
   ]
  },
  {
   "cell_type": "markdown",
   "metadata": {},
   "source": [
    "**Answer: This project was built based on the supervised classification model, that is, the Facebook already has the answers, which are the string of numbers that define a user's face, and, based on patterns, it will classify each user.**"
   ]
  },
  {
   "cell_type": "markdown",
   "metadata": {},
   "source": [
    "* Do you know any other project that applies the same techniques? Could you use something for another use case?"
   ]
  },
  {
   "cell_type": "markdown",
   "metadata": {},
   "source": [
    "**Answer: https://edition.cnn.com/travel/article/airports-facial-recognition/index.html**\n",
    "\n",
    "**\"Instead of scanning her boarding pass, the airport gate scanned her face...\"**\n",
    "\n",
    "**\"(...) Did facial recognition replace boarding passes, unbeknownst to me? Did I consent to this? (...)\"**"
   ]
  },
  {
   "cell_type": "markdown",
   "metadata": {},
   "source": [
    "* Do you find any ethical implications? Collateral effects?"
   ]
  },
  {
   "cell_type": "markdown",
   "metadata": {},
   "source": [
    "**Answer: There are some implications, such as:**\n",
    "\n",
    "**1. How did they get this data?**\n",
    "\n",
    "**2. What will it be used for?**\n",
    "\n",
    "**3. Where, how and how long will it be saved?**\n",
    "\n",
    "**4. Who will have access to it?**"
   ]
  },
  {
   "cell_type": "markdown",
   "metadata": {},
   "source": [
    "* Do you know any related news?"
   ]
  },
  {
   "cell_type": "markdown",
   "metadata": {},
   "source": [
    "**Answer: https://edition.cnn.com/travel/article/airports-facial-recognition/index.html**"
   ]
  },
  {
   "cell_type": "markdown",
   "metadata": {},
   "source": [
    "## News \n",
    "1. [AlphaGO](https://www.blog.google/technology/ai/alphago-machine-learning-game-go/)\n",
    "2. [Google Autonomous Car](https://www.iflscience.com/technology/google-has-developed-self-driving-car/)\n",
    "3. [Fb Face recognition](https://gizmodo.com/facebooks-new-face-recognition-features-what-we-do-an-1823359911)\n",
    "4. [Google drawing](https://www.theverge.com/2017/4/11/15263434/google-ai-autodraw-doodle-bot-drawing-image-recognition)\n",
    "5. [Trump campaign](https://hackernoon.com/did-donald-trump-use-artificial-intelligence-to-win-the-election-8008c2c0bf59)\n",
    "6. [Brain AI](https://www.iflscience.com/brain/artificial-intelligence-recreates-images-from-inside-the-human-brain/)\n",
    "7. [Tay Microsoft racist AI](https://www.theverge.com/2016/3/24/11297050/tay-microsoft-chatbot-racist)\n",
    "8. [Spotify recommendation model](https://medium.com/@terry.foley555/spotify-algorithms-5f38b6b6db58)\n",
    "9. [Malaria spot](https://www.sciencedaily.com/releases/2016/04/160425095546.htm)\n",
    "10. [Retail AI](https://www.forbes.com/sites/bernardmarr/2018/08/10/how-fashion-retailer-hm-is-betting-on-artificial-intelligence-and-big-data-to-regain-profitability/#65bdfc7a5b00)\n",
    "11. [LAPD crime algorithm](https://www.wired.com/story/los-angeles-police-department-predictive-policing/)\n",
    "12. [Traffic AI](https://motherboard.vice.com/en_us/article/jp3dn7/new-ai-algorithm-beats-even-the-worlds-worst-traffic)\n",
    "13. [Captchas](https://www.techradar.com/news/captcha-if-you-can-how-youve-been-training-ai-for-years-without-realising-it)\n",
    "14. [FaceApp](https://techcrunch.com/2017/02/08/faceapp-uses-neural-networks-for-photorealistic-selfie-tweaks/?guccounter=1)\n",
    "15. [The way we walk](https://medium.com/health-ai/googles-ai-can-see-through-your-eyes-what-doctors-can-t-c1031c0b3df4)"
   ]
  }
 ],
 "metadata": {
  "kernelspec": {
   "display_name": "Python 3",
   "language": "python",
   "name": "python3"
  },
  "language_info": {
   "codemirror_mode": {
    "name": "ipython",
    "version": 3
   },
   "file_extension": ".py",
   "mimetype": "text/x-python",
   "name": "python",
   "nbconvert_exporter": "python",
   "pygments_lexer": "ipython3",
   "version": "3.7.4"
  }
 },
 "nbformat": 4,
 "nbformat_minor": 2
}
