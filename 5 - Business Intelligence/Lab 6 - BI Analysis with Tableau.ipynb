{
 "cells": [
  {
   "cell_type": "markdown",
   "metadata": {},
   "source": [
    "# Lab | BI Analysis with Tableau\n"
   ]
  },
  {
   "cell_type": "markdown",
   "metadata": {},
   "source": [
    "## Getting Started\n"
   ]
  },
  {
   "cell_type": "markdown",
   "metadata": {},
   "source": [
    "**To complete this lab, follow each of the steps below.**"
   ]
  },
  {
   "cell_type": "markdown",
   "metadata": {},
   "source": [
    "1. Open Tableau and import the `churn.csv` file."
   ]
  },
  {
   "cell_type": "markdown",
   "metadata": {},
   "source": [
    "2. Let's start out by exploring the company's customers from a demographics perspective. The goal is to get familiar with the dataset and obtain some general insights of the characteristics of the customers. But remember this is only for the purpose of practicing Tableau BI analysis. You can choose to do some of these explorations or some other preliminary analyses as you consider relevant in your real projects.\n",
    "    1. Create a new worksheet and drop the Number of Records measure into the center. You should see that the total customer count is 7,043.\n",
    "    1. Drag and drop the Gender dimension into the Rows area and the Partners dimension into the Columns area.\n",
    "    1. Click on the Show Me menu at the top right of the screen and select the highlight table visualization so that we can see the density of records as we continue to build our view.\n",
    "    1. Add the Dependents dimension to the Columns area (next to Partners).\n",
    "    1. Convert the Senior Citizen measure to a dimension by right clicking on it and selecting *Convert to Dimension*. \n",
    "        - Why do we convert this column from measure to dimension? From the article resource you read, measures contain numeric, quantitative values that Tableau can automatically aggregate, calculate average and median, etc. But dimensions contain qualitative values that are typically categorical where Tableau can perform actions like count, groupby, etc.\n",
    "        - If you look into the values in the `Senior Citizen` column, you'll see `0` and `1` instead of `Yes` and `No`. That is why Tableau thought this column is a measure. But we human beings are smarter and know in this context `0` means `No` and `1` means `Yes`. Therefore it is actually categorical data. It makes total sense to convert it to a dimension so that we can group by it.\n",
    "    1. Drag and drop the new Senior Citizen dimension into the Rows area (right next to Gender).\n",
    "    1. From the Analysis menu, select *Totals > Show Row Grand Totals* and then *Totals > Show Column Grand Totals*.\n",
    "    1. From the statistical summary, We should be able to obtain 3 insights: \n",
    "        - The majority of the company's customers tend to be non-senior individuals.\n",
    "        - There is a fairly even split between male and female customers.\n",
    "        - For customers who have no partners, they tend to have no dependents as well."
   ]
  },
  {
   "cell_type": "markdown",
   "metadata": {},
   "source": [
    "3. Another perspective from which we can view the customer data is the core services they signed up for. The relevant columns include `Phone Service`, `Multiple Lines`, and `Internet Service`. In case you haven't noticed, `Multiple Lines` refers to whether the customer signed up for multiple phone lines with the company.\n",
    "    - Create a new worksheet containing another highlighted table visualization with the Phone Service and Multiple Lines dimensions as rows and the Internet Service dimension as columns.\n",
    "    - Add row and column grand totals to this visualization as well.\n",
    "    - There are a few insights that we should be able to derive from this visualization.\n",
    "        - Most of the company's customers have both phone and internet service with the company.\n",
    "        - Fiber optic is the most popular type of internet service, especially among customers that have phone service with multiple lines.\n",
    "        - DSL is the only type of internet service provided to customers that do not have phone service."
   ]
  },
  {
   "cell_type": "markdown",
   "metadata": {},
   "source": [
    "4. We can also look at what billing options are most popular among customers. This time we ask you to figure out how to create a stacked bar chart that:\n",
    "    - Shows an intuitive view on which Payment Method (i.e. Bank Transfer, Credit Card, Electronic Check, and Mailed Check) is most popular with the Paperless Billing option (`Yes` and `No`).\n",
    "    - Displays a number of records label on each segment of the stacked bars.\n",
    "    - Your visualization should look like this: \n",
    "\n",
    "        ![Payment Method vs Paperless Billing](payment-vs-paperless-billing.png).\n",
    "\n",
    "    - From this visualization, we can see that most customers who have paperless billing also pay via electronic payment methods (with electronic check being the most popular), while payment via mailed check is the most popular payment option for customers who do not have paperless billing.\n",
    "    - Bonus: You can also blend in the Contract dimension to get a more granular view of which billing options are most popular among customers on Month-to-Month, One Year, and Two Year service contracts. How? Your visualization should look like this:\n",
    "\n",
    "        ![Payment Method vs Paperless Billing by Contract Type](payment-vs-paperless-billing-by-contract-type.png).\n",
    "\n",
    "    - What are your observations?"
   ]
  },
  {
   "cell_type": "markdown",
   "metadata": {},
   "source": [
    "**Answer: The most customers with the contract month-to-month pay via electronic check, in comparison, we have just few customers, with the contract of two years, that pay with electronic check. So, we could hypothesize that, as the contract time increases, less people would choose this payment option. \n",
    "Other observation is that the contract of one year has a similar distribution among the payment method.**"
   ]
  },
  {
   "cell_type": "markdown",
   "metadata": {},
   "source": [
    "5. Now that we have looked at customer distribution from a variety of perspectives, let's shift our focus to some of the other measures in our data set. Specifically, let's take a look at how pricing (Monthly Charge) changes with longevity (Tenure). \n",
    "    - Create a visualization that:\n",
    "        - Is a line chart where Tenure is the X axis and Average Monthly Charges is the Y Axis.\n",
    "        - Shows Average Monthly Charges as labels on the data points of the line chart.\n",
    "    - Your line chart should look like below:\n",
    "\n",
    "        ![Avg. Monthly Charge vs Tenure](monthly-charge-vs-tenure.png).\n",
    "\n",
    "    - We can see that the average monthly charge across all customers starts out at $41.42, increases sharply in the first three months to $57.21, and then continues to increase gradually to eventually reach the $80 price range."
   ]
  },
  {
   "cell_type": "markdown",
   "metadata": {},
   "source": [
    "6. We can observe the relationship between Monthly Charges and Tenure from a variety of perspectives to gain insight into how pricing changes for different subsets of customers.\n",
    "    1. The first perspective we want to gain insight is the gender difference.\n",
    "        1. Create a duplicate of the previous Monthly Charge by Tenure visualization.\n",
    "        1. Add the Gender dimension to the Marks section so that we have two lines now on the same chart - one for men and one for women. Your new chart should look like below:\n",
    "\n",
    "            ![Avg. Monthly Charge vs Tenure by Gender](monthly-charge-vs-tenure-by-gender.png).\n",
    "\n",
    "    1. One of the interesting insights we can see from this perspective is that the company charges new women customers twice as much on average than new male customers. However, we see that by the third month, the price level for men is back up to where it is for women. \n",
    "    1. How to interpret the insight above? Well, one possibility is that the company regularly runs low-cost 3-month introductory promotions targeted at men to try their services. Do you have other interpretation?\n",
    "    1. Create another duplicate of the original Monthly Charge by Tenure visualization. Add the Senior Citizen dimension.\n",
    "    1. Add the Senior Citizen dimension to the chart. What do you notice? Does the company charge more, less, or the same for senior citizens compared to non-senior citizens?"
   ]
  },
  {
   "cell_type": "markdown",
   "metadata": {},
   "source": [
    "**Answer: The Company charge more for senior citizens, during all Tenure. It could be because senior citizens could have more problems to understand technology subjects, so this group age would be more dependent to the Company, and they could tend to sign up for more expensive services.**"
   ]
  },
  {
   "cell_type": "markdown",
   "metadata": {},
   "source": [
    "7. The pricing charts we have looked at thus far makes it seem like the company is providing cheaper services to some customers based on demographics. However, we should also take into consideration that pricing is typically heavily dependent on services purchased (e.g. Multiple Lines and Internet Service. It may just be that seniors purchase more expensive services (i.e. multiple lines and type of Internet service) on average than younger customers. To test our theory, let's look at how pricing varies across services.\n",
    "    - Create another duplicate of the original Monthly Charge by Tenure visualization. Add the relevant dimensions to visualize how average monthly charge varies for seniors vs non-seniors when the customer signed up for multiple lines. Your end product should look like this:\n",
    "\n",
    "        ![Senior Montly Charge by Multiple Lines](senior-monthly-charge-by-multiple-line.png)\n",
    "\n",
    "    - Create another duplicate of the original Monthly Charge by Tenure visualization. Add the relevant dimensions to visualize how average monthly charge varies for seniors vs non-seniors when the customer signed up for different Internet Service. Your end product should look like this:\n",
    "\n",
    "        ![Senior Montly Charge by Internet Service](senior-monthly-charge-by-internet-service.png)\n",
    "\n",
    "    - The charts above suggest the company charges seniors significantly more than non-seniors for those who sign up for single-line phone service. The company charges seniors slightly more than non-seniors for those who sign up for multiple-line phone service. There is no obvious charge difference between senior and non-senior when they sign up differen types of Internet Service."
   ]
  },
  {
   "cell_type": "markdown",
   "metadata": {},
   "source": [
    "8. Instead of using line charts to visualize pricing for different demongraphics vs services separately, we can also visualize both demographics *and* services at the same time using *highlight table*.\n",
    "    - Create a highlight table to visualize Average Monthly Charges by Internet Service and Multiple Lines (rows) and Gender and Senior Citizen (columns).\n",
    "    - Display row and column grand totals.\n",
    "    - From this perspective, we can see that the prices for the different combination of core services do not differ significantly across demographic features."
   ]
  },
  {
   "cell_type": "markdown",
   "metadata": {},
   "source": [
    "9. Let's use the highlight table to visualize with percentages instead of totals.\n",
    "    1. Create a new highlight table to visualize Internet Service (row) agains Senior Citizen (column) on the Number of Records.\n",
    "    1. Display the Grant Total for both rows and columns.\n",
    "    1. Select Analysis > Percentage Of > Column in the menu. This displays the percentage instead of totals.\n",
    "    1. Your visualization should look like:\n",
    "\n",
    "        ![Senior vs Internet Service](senior-vs-internet-service.png)\n",
    "\n",
    "    - From this visualization, we can see that the proportion of customers that have fiber optic internet (the highest price service) is higher among seniors than it is among non-seniors. This is likely the cause for the price difference among those two groups. Seniors indeed tend to sign up for more expensive services."
   ]
  },
  {
   "cell_type": "markdown",
   "metadata": {},
   "source": [
    "10. The final perspective we will analyze this data set from is the number of customers that churn by demographic and service combination.\n",
    "    - Create another duplicate of the highlight table visualization showing pricing by demographics and services.\n",
    "    - Create a calculated field called Churned by going to *Analysis > Create Calculated Field* and entering the following formula: `IF [Churn]='Yes' THEN 1 ELSE 0 END`.\n",
    "    - Drag and drop the newly-created Churned measure to replace Monthly Charges wherever it appears in the Marks section.\n",
    "    - By default, Tableau will sum the measure which will show us the number of customers that churned in each segment. This is useful, but what we really want to see is the percentage of customers that churned. To see this, click on the drop-down next to the dimension wherever it appears in the Marks section, select *Measure*, and change the value to *Average*.\n",
    "    - We can see that the churn rates are higher for fiber optic internet across the board than for any other service. We know that fiber is also the highest priced, so perhaps customers aren't happy paying such high prices."
   ]
  },
  {
   "cell_type": "markdown",
   "metadata": {},
   "source": [
    "11. Next, we are going to combine all the visualizations we used to explore the data into a Tableau Story.\n",
    "    - Create a new Story by clicking on *Story > New Story*).\n",
    "    - Our story should document our journey throughout this lab, so you should create a Story Point for each visualization we have created. You can create a new Story Point by clicking on the *Blank* button under the *New Story Point* heading in the left pane of the workbook.\n",
    "    - Drag and drop each visualization into a new Story Point.\n",
    "    - Add a caption for each Story Point that briefly describes the chart. For example, the first one can be captioned *Customer Demographics*, the second one can be captioned *Customers by Service*, etc.\n",
    "    - Add an annotation to each Story Point describing the insights derived from the visualization. If you're having trouble with what to write, you can copy and paste the insights we have been documenting throughout each of the tasks above."
   ]
  },
  {
   "cell_type": "markdown",
   "metadata": {},
   "source": [
    "12. Save your work to Tableau Public, ensure that your workbook is viewable, and copy the URL for the workbook into the deliverables file for this lab.\n"
   ]
  },
  {
   "cell_type": "markdown",
   "metadata": {},
   "source": [
    "## Deliverables\n"
   ]
  },
  {
   "cell_type": "markdown",
   "metadata": {},
   "source": [
    "https://public.tableau.com/profile/alessandra.siqueira#!/vizhome/Lab6-BIAnalysiswithTableau/DataAnalysisChurn?publish=yes"
   ]
  }
 ],
 "metadata": {
  "kernelspec": {
   "display_name": "Python 3",
   "language": "python",
   "name": "python3"
  },
  "language_info": {
   "codemirror_mode": {
    "name": "ipython",
    "version": 3
   },
   "file_extension": ".py",
   "mimetype": "text/x-python",
   "name": "python",
   "nbconvert_exporter": "python",
   "pygments_lexer": "ipython3",
   "version": "3.7.4"
  }
 },
 "nbformat": 4,
 "nbformat_minor": 2
}
