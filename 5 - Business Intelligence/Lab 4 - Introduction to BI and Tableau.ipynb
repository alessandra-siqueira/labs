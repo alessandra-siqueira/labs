{
 "cells": [
  {
   "cell_type": "markdown",
   "metadata": {},
   "source": [
    "# Lab | Introduction to BI and Tableau"
   ]
  },
  {
   "cell_type": "markdown",
   "metadata": {},
   "source": [
    "## Getting Started\n"
   ]
  },
  {
   "cell_type": "markdown",
   "metadata": {},
   "source": [
    "**To complete this lab, follow each of the steps below.**"
   ]
  },
  {
   "cell_type": "markdown",
   "metadata": {},
   "source": [
    "1. Open the [data set](https://docs.google.com/spreadsheets/d/1pQ2VFsuuwLqBstYYTY3fcZY32WLigw3Pzxnikkce6IA/edit?usp=sharing) in a browser.\n",
    "2. Add the data set to your Google Drive.\n",
    "3. Launch the Tableau Public application.\n",
    "4. Import the data set from Google Sheets into Tableau.\n",
    "5. Once the data set has been imported, change the data type for the Year field to string.\n",
    "6. Create a new field called Quarter by [binning](https://onlinehelp.tableau.com/current/pro/desktop/en-us/calculations_bins.htm) the month field using a bin size of 4.\n",
    "7. Create a new worksheet, drag the newly-created Quarter field into the Rows section, and drag the Number of Records measure to the center of the view. You will notice that the quarters are currently named labeled 0, 4, 8, 12. [Rename](https://onlinehelp.tableau.com/current/pro/desktop/en-us/datafields_fieldproperties_aliases_ex1editing.htm) them more intuitively by right-clicking on the Quarter dimension, selecting Aliases and changing their names to Q1, Q2, Q3, and Q4 respectively.\n",
    "8. Create new worksheets with tabular views for each of the following metrics.\n",
    "    - Total Retail Sales by Year/Quarter (rows).\n",
    "    - Average Retail Sales by Year/Quarter (rows).\n",
    "    - Total Retail Sales by Year/Month (rows) and Item Type (columns).\n",
    "    - Average Retail Sales by Year/Month (rows) and Item Type (columns).\n",
    "    - Total Retail Transfers by Year/Quarter (rows).\n",
    "    - Average Retail Transfers by Year/Quarter (rows).\n",
    "    - Total Retail Transfers by Year/Month (rows) and Item Type (columns).\n",
    "    - Average Retail Transfers by Year/Month (rows) and Item Type (columns).\n",
    "    - Total Warehouse Sales by Year/Quarter (rows).\n",
    "    - Average Warehouse Sales by Year/Quarter (rows).\n",
    "    - Total Warehouse Sales by Year/Month (rows) and Item Type (columns).\n",
    "    - Average Warehouse Sales by Year/Month (rows) and Item Type (columns).\n",
    "9. Save your work to Tableau Public, ensure that your workbook is viewable, and copy the URL for the workbook into the deliverables file for this lab. It might take several minutes for this workbook to save to Tableau Public due to the number of records in the data set."
   ]
  },
  {
   "cell_type": "markdown",
   "metadata": {},
   "source": [
    "## Deliverables"
   ]
  },
  {
   "cell_type": "markdown",
   "metadata": {},
   "source": [
    "https://public.tableau.com/profile/alessandra.siqueira#!/vizhome/Lab4-IntroductiontoBIandTableau/TotalRetailTransfersbyYearMonthItem?publish=yes"
   ]
  }
 ],
 "metadata": {
  "kernelspec": {
   "display_name": "Python 3",
   "language": "python",
   "name": "python3"
  },
  "language_info": {
   "codemirror_mode": {
    "name": "ipython",
    "version": 3
   },
   "file_extension": ".py",
   "mimetype": "text/x-python",
   "name": "python",
   "nbconvert_exporter": "python",
   "pygments_lexer": "ipython3",
   "version": "3.7.4"
  }
 },
 "nbformat": 4,
 "nbformat_minor": 2
}
